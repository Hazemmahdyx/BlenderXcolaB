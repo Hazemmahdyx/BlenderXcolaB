{
  "nbformat": 4,
  "nbformat_minor": 0,
  "metadata": {
    "colab": {
      "name": "Blender-Collab.ipynb",
      "private_outputs": true,
      "provenance": [],
      "collapsed_sections": []
    },
    "kernelspec": {
      "name": "python3",
      "display_name": "Python 3"
    },
    "accelerator": "GPU"
  },
  "cells": [
    {
      "cell_type": "markdown",
      "metadata": {
        "id": "CwraDEw7cENB"
      },
      "source": [
        "# Render Blender Files on Google Colab\n",
        "\n",
        "---\n",
        "\n",
        "\n",
        "## Hazem Mahdy \n",
        "https://www.behance.net/hazemmahdyx\n",
        "\n",
        "https://www.youtube.com/c/hazemmahdy\n",
        "\n",
        "https://www.instagram.com/hazemmahdyx/"
      ]
    },
    {
      "cell_type": "code",
      "metadata": {
        "id": "h_E1kl9W4iV8"
      },
      "source": [
        "#Connect Google Drive to Google Colab\n",
        "#=====================================\n",
        "from google.colab import drive\n",
        "drive.mount('/content/drive')"
      ],
      "execution_count": null,
      "outputs": []
    },
    {
      "cell_type": "code",
      "metadata": {
        "id": "ldykR0fMftHt"
      },
      "source": [
        "#Download Blender from Blender Repository. \n",
        "#Other Versions are here: https://download.blender.org/release/\n",
        "#=====================================\n",
        "!wget https://download.blender.org/release/Blender3.0/blender-3.0.0-linux-x64.tar.xz"
      ],
      "execution_count": null,
      "outputs": []
    },
    {
      "cell_type": "code",
      "source": [
        "#Download File. \n",
        "\n",
        "#!wget YourFileURL"
      ],
      "metadata": {
        "id": "J53SZEVVET_Y"
      },
      "execution_count": null,
      "outputs": []
    },
    {
      "cell_type": "code",
      "metadata": {
        "id": "ANYFn5tFH_PE"
      },
      "source": [
        "#Use these commands to move Blender zip file to Google Drive and then back to working directory so you don't have to download Blender each time\n",
        "\n",
        "#Copy Blender Zip File to Google Drive\n",
        "#=====================================\n",
        "#!cp /content/blender-2.93.5-linux-x64.tar.xz /content/drive/MyDrive/Blender/blender-2.93.5-linux-x64.tar.xz\n",
        "\n",
        "#Copy Blender Zip File from Google Drive\n",
        "#=====================================\n",
        "#!cp /content/drive/MyDrive/Blender/blender-2.93.5-linux-x64.tar.xz /content/blender-2.93.5-linux-x64.tar.xz"
      ],
      "execution_count": null,
      "outputs": []
    },
    {
      "cell_type": "code",
      "metadata": {
        "id": "rQ-CKpS5hBFo"
      },
      "source": [
        "#Extract Blender \n",
        "#=====================================\n",
        "!tar xf blender-3.0.0-linux-x64.tar.xz\n"
      ],
      "execution_count": null,
      "outputs": []
    },
    {
      "cell_type": "code",
      "metadata": {
        "id": "d20avlrs8oWf"
      },
      "source": [
        "#Deletes the Default libtcmalloc-minimal4 version and installs the Ubuntu default version\n",
        "!apt-get install unrar\n",
        "!apt-get install unzip\n",
        "!apt-get install p7zip\n",
        "\n",
        "import os\n",
        "\n",
        "os.environ[\"LD_PRELOAD\"] = \"\"\n",
        "\n",
        "#Deletes wrong Version of libtcmalloc-minimal4\n",
        "!apt remove libtcmalloc-minimal4\n",
        "#Installs correct version of libtcmalloc-minimal4\n",
        "!apt install libtcmalloc-minimal4\n",
        "\n",
        "#Adds this library to the user environment\n",
        "os.environ[\"LD_PRELOAD\"] = \"/usr/lib/x86_64-linux-gnu/libtcmalloc_minimal.so.4.3.0\"\n"
      ],
      "execution_count": null,
      "outputs": []
    },
    {
      "cell_type": "code",
      "source": [
        "#Extract Your Files\n",
        "\n",
        "#-------RAR Files----------#\n",
        "#!unrar x YourFileDir\n",
        "\n",
        "#-- To extract a RAR file in specific path or destination directory--#\n",
        "#!unrar x YourFileDir YourPath\n",
        "\n",
        "\n",
        "#-------ZIP Files----------#\n",
        "#!unzip YourFileDir\n",
        "\n",
        "#-- To extract a ZIP file in specific path or destination directory--#\n",
        "#!unzip -d YourPath YourFileDir\n",
        "\n",
        "\n",
        "#-------7z Files----------#\n",
        "#!7za e YourFilesDir\n"
      ],
      "metadata": {
        "id": "nj7u6yBV-Jzl"
      },
      "execution_count": null,
      "outputs": []
    },
    {
      "cell_type": "code",
      "metadata": {
        "id": "AYLt4dk18KPS"
      },
      "source": [
        "#Path of Blender File to be Rendered \n",
        "#===========================\n",
        "filename = 'Your-Blender-File.Blend'"
      ],
      "execution_count": null,
      "outputs": []
    },
    {
      "cell_type": "code",
      "metadata": {
        "id": "_p77a65khTRB"
      },
      "source": [
        "#Render Single Frame using OPTIX, if GPU supports it, otherwise use CUDA. \n",
        "#===========================================================================\n",
        "#!./blender-3.0.0-linux-x64/blender -b $filename -noaudio -E 'CYCLES' -o \"/content/drive/MyDrive/BlenderRenders\" -f 1 -F 'PNG' -- --cycles-device CUDA\n",
        "\n",
        "\n",
        "#Render Single Frame: Change -f 1 to -f 100 to render frame 100 for example\n",
        "#===========================================================================\n",
        "#!./blender-3.0.0-linux-x64/blender -b $filename -noaudio -E 'CYCLES' --debug-all -o \"/content/drive/MyDrive/Blender\" -f 1 -F 'PNG' -- --cycles-device CUDA\n",
        "\n",
        "\n",
        "#Render Animation: -s 1 and -e 250 means, render frames 1 to 250 of animation, -a means render animation. Animation will be rendered in whatever format was chosen in blender file. i.e. MP4\n",
        "#===========================================================================\n",
        "#!./blender-3.0.0-linux-x64/blender -b $filename -noaudio -E 'CYCLES' -o \"/content/drive/MyDrive/Blender\" -s 1 -e 250 -a -- --cycles-device CUDA\n"
      ],
      "execution_count": null,
      "outputs": []
    },
    {
      "cell_type": "code",
      "metadata": {
        "id": "UcXH9y2fG0Ub"
      },
      "source": [
        "#Check NVidia GPU Status. i.e. What GPU you are using\n",
        "#=================================================================\n",
        "!nvidia-smi"
      ],
      "execution_count": null,
      "outputs": []
    }
  ]
}